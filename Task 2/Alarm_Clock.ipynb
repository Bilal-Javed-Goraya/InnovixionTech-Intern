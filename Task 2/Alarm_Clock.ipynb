{
 "cells": [
  {
   "cell_type": "code",
   "execution_count": null,
   "id": "7414f024",
   "metadata": {},
   "outputs": [],
   "source": [
    "from tkinter import *\n",
    "import datetime\n",
    "import time\n",
    "import winsound\n",
    "\n",
    "def alarm(set_alarm_timer):\n",
    "    while True:\n",
    "        time.sleep(1)\n",
    "        current_time = datetime.datetime.now()\n",
    "        now = current_time.strftime(\"%H:%M:%S\")\n",
    "        date = current_time.strftime(\"%d/%m/%Y\")\n",
    "        print(\"The Set Date is:\",date)\n",
    "        print(now)\n",
    "        if now == set_alarm_timer:\n",
    "            print(\"Time to Wake up\")\n",
    "        winsound.PlaySound(\"sound.wav\",winsound.SND_ASYNC)\n",
    "        break\n",
    "def actual_time():\n",
    "    set_alarm_timer = f\"{hour.get()}:{min.get()}:{sec.get()}\"\n",
    "    alarm(set_alarm_timer)\n",
    "\n",
    "clock = Tk()\n",
    "clock.title(\"PYANDREI Alarm Clock\")\n",
    "clock.geometry(\"400x200\")\n",
    "time_format=Label(clock, text= \"Enter time in 24 hour format!\", fg=\"red\",bg=\"black\",font=\"Arial\").place(x=60,y=120)\n",
    "addTime = Label(clock,text = \"Hour  Min   Sec\",font=60).place(x = 110)\n",
    "setYourAlarm = Label(clock,text = \"When to wake you up\",fg=\"blue\",relief = \"solid\",font=(\"Helevetica\",7,\"bold\")).place(x=0, y=29)\n",
    "\n",
    "hour = StringVar()\n",
    "min = StringVar()\n",
    "sec = StringVar()\n",
    "\n",
    "hourTime= Entry(clock,textvariable = hour,bg = \"pink\",width = 15).place(x=110,y=30)\n",
    "minTime= Entry(clock,textvariable = min,bg = \"pink\",width = 15).place(x=150,y=30)\n",
    "secTime = Entry(clock,textvariable = sec,bg = \"pink\",width = 15).place(x=200,y=30)\n",
    "#To take the time input by user:\n",
    "submit = Button(clock,text = \"Set Alarm\",fg=\"red\",width = 10,command = actual_time).place(x =110,y=70)\n",
    "clock.mainloop()\n",
    "\n",
    "\n"
   ]
  },
  {
   "cell_type": "code",
   "execution_count": null,
   "id": "2c6a84a6",
   "metadata": {},
   "outputs": [
    {
     "name": "stdout",
     "output_type": "stream",
     "text": [
      "Current Time: 01:33:04 29/11/23\n",
      "Current Time: 01:33:05 29/11/23\n",
      "Current Time: 01:33:06 29/11/23\n",
      "Current Time: 01:33:08 29/11/23\n",
      "Current Time: 01:33:09 29/11/23\n"
     ]
    },
    {
     "name": "stderr",
     "output_type": "stream",
     "text": [
      "\n",
      "    Error 263 for command:\n",
      "        open ./ringtones/alarm.wav\n",
      "    The specified device is not open or is not recognized by MCI.\n",
      "\n",
      "    Error 263 for command:\n",
      "        close ./ringtones/alarm.wav\n",
      "    The specified device is not open or is not recognized by MCI.\n",
      "Failed to close the file: ./ringtones/alarm.wav\n"
     ]
    },
    {
     "name": "stdout",
     "output_type": "stream",
     "text": [
      "Current Time: 01:33:10 29/11/23\n"
     ]
    },
    {
     "name": "stderr",
     "output_type": "stream",
     "text": [
      "Exception in Tkinter callback\n",
      "Traceback (most recent call last):\n",
      "  File \"E:\\Anaconda1\\lib\\tkinter\\__init__.py\", line 1921, in __call__\n",
      "    return self.func(*args)\n",
      "  File \"C:\\Users\\User\\AppData\\Local\\Temp\\ipykernel_3396\\3004755841.py\", line 20, in get_alarm\n",
      "    Alarm(alarm_set)\n",
      "  File \"C:\\Users\\User\\AppData\\Local\\Temp\\ipykernel_3396\\3004755841.py\", line 15, in Alarm\n",
      "    playsound('./ringtones/alarm.wav')\n",
      "  File \"C:\\Users\\User\\AppData\\Roaming\\Python\\Python310\\site-packages\\playsound.py\", line 72, in _playsoundWin\n",
      "    winCommand(u'open {}'.format(sound))\n",
      "  File \"C:\\Users\\User\\AppData\\Roaming\\Python\\Python310\\site-packages\\playsound.py\", line 64, in winCommand\n",
      "    raise PlaysoundException(exceptionMessage)\n",
      "playsound.PlaysoundException: \n",
      "    Error 263 for command:\n",
      "        open ./ringtones/alarm.wav\n",
      "    The specified device is not open or is not recognized by MCI.\n"
     ]
    },
    {
     "name": "stdout",
     "output_type": "stream",
     "text": [
      "Current Time: 01:36:58 29/11/23\n",
      "Current Time: 01:36:59 29/11/23\n",
      "Current Time: 01:37:00 29/11/23\n",
      "Current Time: 01:37:01 29/11/23\n",
      "Current Time: 01:37:02 29/11/23\n",
      "Current Time: 01:37:03 29/11/23\n",
      "Current Time: 01:37:04 29/11/23\n",
      "Current Time: 01:37:05 29/11/23\n",
      "Current Time: 01:37:06 29/11/23\n",
      "Current Time: 01:37:07 29/11/23\n",
      "Current Time: 01:37:08 29/11/23\n",
      "Current Time: 01:37:09 29/11/23\n"
     ]
    },
    {
     "name": "stderr",
     "output_type": "stream",
     "text": [
      "\n",
      "    Error 263 for command:\n",
      "        open ./ringtones/alarm.wav\n",
      "    The specified device is not open or is not recognized by MCI.\n",
      "\n",
      "    Error 263 for command:\n",
      "        close ./ringtones/alarm.wav\n",
      "    The specified device is not open or is not recognized by MCI.\n",
      "Failed to close the file: ./ringtones/alarm.wav\n"
     ]
    },
    {
     "name": "stdout",
     "output_type": "stream",
     "text": [
      "Current Time: 01:37:10 29/11/23\n"
     ]
    },
    {
     "name": "stderr",
     "output_type": "stream",
     "text": [
      "Exception in Tkinter callback\n",
      "Traceback (most recent call last):\n",
      "  File \"E:\\Anaconda1\\lib\\tkinter\\__init__.py\", line 1921, in __call__\n",
      "    return self.func(*args)\n",
      "  File \"C:\\Users\\User\\AppData\\Local\\Temp\\ipykernel_3396\\3004755841.py\", line 20, in get_alarm\n",
      "    Alarm(alarm_set)\n",
      "  File \"C:\\Users\\User\\AppData\\Local\\Temp\\ipykernel_3396\\3004755841.py\", line 15, in Alarm\n",
      "    playsound('./ringtones/alarm.wav')\n",
      "  File \"C:\\Users\\User\\AppData\\Roaming\\Python\\Python310\\site-packages\\playsound.py\", line 72, in _playsoundWin\n",
      "    winCommand(u'open {}'.format(sound))\n",
      "  File \"C:\\Users\\User\\AppData\\Roaming\\Python\\Python310\\site-packages\\playsound.py\", line 64, in winCommand\n",
      "    raise PlaysoundException(exceptionMessage)\n",
      "playsound.PlaysoundException: \n",
      "    Error 263 for command:\n",
      "        open ./ringtones/alarm.wav\n",
      "    The specified device is not open or is not recognized by MCI.\n"
     ]
    },
    {
     "name": "stdout",
     "output_type": "stream",
     "text": [
      "Current Time: 01:37:16 29/11/23\n",
      "Current Time: 01:37:17 29/11/23\n",
      "Current Time: 01:37:18 29/11/23\n",
      "Current Time: 01:37:19 29/11/23\n",
      "Current Time: 01:37:20 29/11/23\n",
      "Current Time: 01:37:21 29/11/23\n",
      "Current Time: 01:37:22 29/11/23\n",
      "Current Time: 01:37:23 29/11/23\n",
      "Current Time: 01:37:24 29/11/23\n",
      "Current Time: 01:37:25 29/11/23\n",
      "Current Time: 01:37:26 29/11/23\n",
      "Current Time: 01:37:27 29/11/23\n",
      "Current Time: 01:37:28 29/11/23\n",
      "Current Time: 01:37:29 29/11/23\n",
      "Current Time: 01:37:30 29/11/23\n",
      "Current Time: 01:37:31 29/11/23\n",
      "Current Time: 01:37:32 29/11/23\n",
      "Current Time: 01:37:33 29/11/23\n",
      "Current Time: 01:37:34 29/11/23\n",
      "Current Time: 01:37:35 29/11/23\n",
      "Current Time: 01:37:36 29/11/23\n",
      "Current Time: 01:37:37 29/11/23\n",
      "Current Time: 01:37:38 29/11/23\n",
      "Current Time: 01:37:39 29/11/23\n",
      "Current Time: 01:37:40 29/11/23\n",
      "Current Time: 01:37:41 29/11/23\n",
      "Current Time: 01:37:42 29/11/23\n",
      "Current Time: 01:37:43 29/11/23\n",
      "Current Time: 01:37:44 29/11/23\n",
      "Current Time: 01:37:45 29/11/23\n",
      "Current Time: 01:37:46 29/11/23\n",
      "Current Time: 01:37:47 29/11/23\n",
      "Current Time: 01:37:48 29/11/23\n",
      "Current Time: 01:37:49 29/11/23\n",
      "Current Time: 01:37:50 29/11/23\n",
      "Current Time: 01:37:51 29/11/23\n",
      "Current Time: 01:37:52 29/11/23\n",
      "Current Time: 01:37:53 29/11/23\n",
      "Current Time: 01:37:54 29/11/23\n",
      "Current Time: 01:37:55 29/11/23\n",
      "Current Time: 01:37:56 29/11/23\n"
     ]
    }
   ],
   "source": [
    "from tkinter import *\n",
    "import datetime\n",
    "import time\n",
    "from playsound import playsound\n",
    "\n",
    "def Alarm(set_alarm):\n",
    "    while True:\n",
    "        time.sleep(1)\n",
    "        actual_time = datetime.datetime.now()\n",
    "        cur_time = actual_time.strftime(\"%H:%M:%S\")\n",
    "        cur_date = actual_time.strftime(\"%d/%m/%y\")\n",
    "        msg = \"Current Time: \"+str(cur_time)\n",
    "        print(msg+\" \"+cur_date)\n",
    "        if cur_time == set_alarm:\n",
    "            playsound('./ringtones/alarm.wav')\n",
    "            break\n",
    "\n",
    "def get_alarm():\n",
    "    alarm_set = f\"{hour.get()}:{min.get()}:{sec.get()}\"\n",
    "    Alarm(alarm_set)\n",
    "\n",
    "window = Tk()\n",
    "window.title(\"Alarm Clock\")\n",
    "window.geometry(\"400x160\")\n",
    "window.config(bg=\"#922B21\")\n",
    "window.resizable(width=False,height=False)\n",
    "\n",
    "time_format = Label(window, text=\"Set Time In 24 Hour Format Only!\", fg=\"white\", bg=\"#922B21\", font=(\"Poppins\",15)).place(x=25,y=120)\n",
    "add_time = Label(window, text=\"  Hr        Min      Sec \", font=90, fg=\"white\", bg=\"black\").place(x=210)\n",
    "set_your_alarm = Label(window, text=\"Set Time For Alarm: \", fg=\"white\", bg=\"#922B21\", relief=\"solid\", font=(\"Helevetica\",12,\"bold\")).place(x=10,y=41)\n",
    "\n",
    "hour = StringVar()\n",
    "min = StringVar()\n",
    "sec = StringVar()\n",
    "\n",
    "hourTime = Entry(window, textvariable= hour, fg=\"black\", bg=\"#48C9B0\", width=4, font=(20)).place(x=210,y=40)\n",
    "minTime = Entry(window, textvariable= min, fg=\"black\", bg=\"#48C9B0\", width=4, font=(20)).place(x=270,y=40)\n",
    "secTime = Entry(window, textvariable= sec, fg=\"black\", bg=\"#48C9B0\", width=4, font=(20)).place(x=330,y=40)\n",
    "\n",
    "submit = Button(window, text=\"Set Your Alarm\", fg=\"black\", bg=\"#D4AC0D\", width=15, command=get_alarm, font=(20)).place(x=100,y=80)\n",
    "\n",
    "window.mainloop()\n"
   ]
  },
  {
   "cell_type": "code",
   "execution_count": null,
   "id": "ffbf7697",
   "metadata": {},
   "outputs": [],
   "source": []
  }
 ],
 "metadata": {
  "kernelspec": {
   "display_name": "Python 3 (ipykernel)",
   "language": "python",
   "name": "python3"
  },
  "language_info": {
   "codemirror_mode": {
    "name": "ipython",
    "version": 3
   },
   "file_extension": ".py",
   "mimetype": "text/x-python",
   "name": "python",
   "nbconvert_exporter": "python",
   "pygments_lexer": "ipython3",
   "version": "3.10.9"
  }
 },
 "nbformat": 4,
 "nbformat_minor": 5
}
